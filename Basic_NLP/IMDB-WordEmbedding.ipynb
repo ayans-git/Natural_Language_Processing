{
 "cells": [
  {
   "cell_type": "code",
   "execution_count": 3,
   "metadata": {},
   "outputs": [],
   "source": [
    "from keras.datasets import imdb\n",
    "from keras import preprocessing\n",
    "\n",
    "max_features = 10000 #Number of words to consider as features\n",
    "max_len = 20  #Truncates the text after this number of words (among the max_features most common words)\n",
    "embedding_dim = 8\n",
    "\n",
    "#Load data as lists of integers\n",
    "(x_train, y_train), (x_test, y_test) = imdb.load_data(num_words = max_features)\n",
    "\n",
    "#Turn the lists of integers into a 2D integer tensor of shape (samples, maxlen)\n",
    "#Sequences that are shorter than max_len are padded with 0.0\n",
    "x_train = preprocessing.sequence.pad_sequences(x_train, maxlen = max_len, value = 0.0)\n",
    "x_test = preprocessing.sequence.pad_sequences(x_test, maxlen = max_len, value = 0.0) "
   ]
  },
  {
   "cell_type": "code",
   "execution_count": 13,
   "metadata": {},
   "outputs": [
    {
     "name": "stdout",
     "output_type": "stream",
     "text": [
      "_________________________________________________________________\n",
      "Layer (type)                 Output Shape              Param #   \n",
      "=================================================================\n",
      "embedding_7 (Embedding)      (None, 20, 8)             80000     \n",
      "_________________________________________________________________\n",
      "flatten_7 (Flatten)          (None, 160)               0         \n",
      "_________________________________________________________________\n",
      "dense_7 (Dense)              (None, 1)                 161       \n",
      "=================================================================\n",
      "Total params: 80,161\n",
      "Trainable params: 80,161\n",
      "Non-trainable params: 0\n",
      "_________________________________________________________________\n",
      "Train on 20000 samples, validate on 5000 samples\n",
      "Epoch 1/10\n",
      "20000/20000 [==============================] - 1s 46us/step - loss: 0.6655 - binary_accuracy: 0.6289 - val_loss: 0.6098 - val_binary_accuracy: 0.6984\n",
      "Epoch 2/10\n",
      "20000/20000 [==============================] - 1s 35us/step - loss: 0.5347 - binary_accuracy: 0.7511 - val_loss: 0.5220 - val_binary_accuracy: 0.7382\n",
      "Epoch 3/10\n",
      "20000/20000 [==============================] - 1s 34us/step - loss: 0.4589 - binary_accuracy: 0.7870 - val_loss: 0.5005 - val_binary_accuracy: 0.7444\n",
      "Epoch 4/10\n",
      "20000/20000 [==============================] - 1s 40us/step - loss: 0.4223 - binary_accuracy: 0.8079 - val_loss: 0.4937 - val_binary_accuracy: 0.7544\n",
      "Epoch 5/10\n",
      "20000/20000 [==============================] - 1s 38us/step - loss: 0.3975 - binary_accuracy: 0.8227 - val_loss: 0.4933 - val_binary_accuracy: 0.7620\n",
      "Epoch 6/10\n",
      "20000/20000 [==============================] - 1s 34us/step - loss: 0.3771 - binary_accuracy: 0.8330 - val_loss: 0.4963 - val_binary_accuracy: 0.7552\n",
      "Epoch 7/10\n",
      "20000/20000 [==============================] - 1s 34us/step - loss: 0.3597 - binary_accuracy: 0.8435 - val_loss: 0.5017 - val_binary_accuracy: 0.7558\n",
      "Epoch 8/10\n",
      "20000/20000 [==============================] - 1s 35us/step - loss: 0.3436 - binary_accuracy: 0.8515 - val_loss: 0.5068 - val_binary_accuracy: 0.7528\n",
      "Epoch 9/10\n",
      "20000/20000 [==============================] - 1s 68us/step - loss: 0.3278 - binary_accuracy: 0.8608 - val_loss: 0.5137 - val_binary_accuracy: 0.7508\n",
      "Epoch 10/10\n",
      "20000/20000 [==============================] - 2s 81us/step - loss: 0.3130 - binary_accuracy: 0.8698 - val_loss: 0.5199 - val_binary_accuracy: 0.7506\n"
     ]
    }
   ],
   "source": [
    "#STEP: Using an Embedding layer and classifier on the IMDB data\n",
    "\n",
    "from keras.models import Sequential\n",
    "from keras.layers import Embedding, Flatten, Dense\n",
    "from keras import optimizers\n",
    "from keras import losses\n",
    "from keras import metrics\n",
    "\n",
    "model = Sequential()\n",
    "#Specifies the maximum input length to the Embedding layer \n",
    "#so you can later flatten the embedded inputs. After the \n",
    "#Embedding layer, the activations have shape (samples, maxlen, 8)\n",
    "model.add(Embedding(max_features, embedding_dim, input_length = max_len))\n",
    "\n",
    "#Flattens the 3D tensor of embeddings into a 2D tensor of shape (samples, maxlen * 8)\n",
    "model.add(Flatten())\n",
    "\n",
    "#Add the classifier on top\n",
    "model.add(Dense(1, activation = 'sigmoid'))\n",
    "\n",
    "model.compile(optimizer = optimizers.RMSprop(),\n",
    "             loss = losses.binary_crossentropy,\n",
    "             metrics = [metrics.binary_accuracy])\n",
    "\n",
    "# Param numbers 80000 = max_features * embedding_dim\n",
    "# Output shape 160 = max_len * embedding_dim\n",
    "# Param numbers 161 = max_len * embedding_dim + shape of Dense layer\n",
    "model.summary()\n",
    "\n",
    "history_wem = model.fit(x_train, y_train,\n",
    "                       epochs = 10,\n",
    "                       batch_size = 32,\n",
    "                       validation_split = 0.2) #Total sample 25,000; validation = 25000 * 0.2 = 5,000"
   ]
  },
  {
   "cell_type": "code",
   "execution_count": 10,
   "metadata": {},
   "outputs": [
    {
     "data": {
      "image/png": "[encoded data removed]",
      "text/plain": [
       "<matplotlib.figure.Figure at 0x183643c0cc0>"
      ]
     },
     "metadata": {},
     "output_type": "display_data"
    }
   ],
   "source": [
    "#STEP: Plotting the training and validation loss\n",
    "import matplotlib.pyplot as plt\n",
    "\n",
    "loss = history_wem.history['loss']\n",
    "val_loss = history_wem.history['val_loss']\n",
    "\n",
    "epochs = range(1, len(loss) + 1)\n",
    "\n",
    "plt.plot(epochs, loss, 'bo', label = 'Training Loss')\n",
    "plt.plot(epochs, val_loss, 'r', label = 'Validation Loss')\n",
    "plt.title('Training and Validation Loss')\n",
    "plt.xlabel('Epochs')\n",
    "plt.ylabel('Loss')\n",
    "plt.legend()\n",
    "plt.show()"
   ]
  },
  {
   "cell_type": "code",
   "execution_count": 11,
   "metadata": {},
   "outputs": [
    {
     "data": {
      "image/png": "[encoded data removed]",
      "text/plain": [
       "<matplotlib.figure.Figure at 0x18363b3ea58>"
      ]
     },
     "metadata": {},
     "output_type": "display_data"
    }
   ],
   "source": [
    "#STEP: Plotting training and validation accuracy\n",
    "\n",
    "acc =  history_wem.history['binary_accuracy']\n",
    "val_acc = history_wem.history['val_binary_accuracy']\n",
    "\n",
    "epochs = range(1, len(acc) + 1)\n",
    "\n",
    "plt.plot(epochs, acc, 'g^', label = 'Training Accuracy')\n",
    "plt.plot(epochs, val_acc, 'b', label = 'Validation Accuracy')\n",
    "plt.title('Training and Validation Accuracy')\n",
    "plt.xlabel('Epochs')\n",
    "plt.ylabel('Loss')\n",
    "plt.legend()\n",
    "plt.show()"
   ]
  },
  {
   "cell_type": "code",
   "execution_count": null,
   "metadata": {},
   "outputs": [],
   "source": []
  }
 ],
 "metadata": {
  "kernelspec": {
   "display_name": "Python 3",
   "language": "python",
   "name": "python3"
  },
  "language_info": {
   "codemirror_mode": {
    "name": "ipython",
    "version": 3
   },
   "file_extension": ".py",
   "mimetype": "text/x-python",
   "name": "python",
   "nbconvert_exporter": "python",
   "pygments_lexer": "ipython3",
   "version": "3.6.4"
  }
 },
 "nbformat": 4,
 "nbformat_minor": 2
}
