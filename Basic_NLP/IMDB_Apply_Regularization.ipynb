{
 "cells": [
  {
   "cell_type": "code",
   "execution_count": 1,
   "metadata": {},
   "outputs": [
    {
     "name": "stderr",
     "output_type": "stream",
     "text": [
      "D:\\InstalledSoftware\\Anaconda\\lib\\site-packages\\h5py\\__init__.py:36: FutureWarning: Conversion of the second argument of issubdtype from `float` to `np.floating` is deprecated. In future, it will be treated as `np.float64 == np.dtype(float).type`.\n",
      "  from ._conv import register_converters as _register_converters\n",
      "Using TensorFlow backend.\n"
     ]
    }
   ],
   "source": [
    "#STEP 1: Load data\n",
    "from keras.datasets import imdb\n",
    "#keep only the top 10000 most frequently occurring words in the training data\n",
    "(train_data, train_labels), (test_data, test_labels) = imdb.load_data(num_words = 10000)"
   ]
  },
  {
   "cell_type": "code",
   "execution_count": 2,
   "metadata": {},
   "outputs": [],
   "source": [
    "#STEP 2: Encoding the integer sequences into a binary matrix [One-hot encode]\n",
    "import numpy as np\n",
    "def vectorize_sequences(sequences, dimension = 10000):\n",
    "    #Create an all-zero matrix of shape (len(sequences), dimension)\n",
    "    results = np.zeros((len(sequences), dimension))\n",
    "    #Set specific indices of results[i] to 1s\n",
    "    for i, sequence in enumerate(sequences):\n",
    "        results[i, sequence] = 1.\n",
    "    return results\n",
    "                       "
   ]
  },
  {
   "cell_type": "code",
   "execution_count": 3,
   "metadata": {},
   "outputs": [],
   "source": [
    "#STEP 3: Vectorize Training Data, Test Data, Training Label & Test Label\n",
    "\n",
    "#Data\n",
    "x_train = vectorize_sequences(train_data)\n",
    "x_test = vectorize_sequences(test_data)\n",
    "\n",
    "#Labels\n",
    "y_train = np.asarray(train_labels).astype('float32')\n",
    "y_test = np.asarray(test_labels).astype('float32')"
   ]
  },
  {
   "cell_type": "code",
   "execution_count": 4,
   "metadata": {},
   "outputs": [],
   "source": [
    "#STEP 4A: Model definition without regularization\n",
    "from keras import models\n",
    "from keras import layers\n",
    "from keras import optimizers\n",
    "from keras import losses\n",
    "from keras import metrics\n",
    "\n",
    "def build_model_no_regularization():\n",
    "    model = models.Sequential()\n",
    "    model.add(layers.Dense(16, activation = 'relu', input_shape = (10000,)))\n",
    "    model.add(layers.Dense(16, activation = 'relu'))\n",
    "    model.add(layers.Dense(1, activation = 'sigmoid'))\n",
    "    model.compile(optimizer = optimizers.RMSprop(lr = 0.001),\n",
    "                 loss = losses.binary_crossentropy,\n",
    "                 metrics = [metrics.binary_accuracy])\n",
    "    return model"
   ]
  },
  {
   "cell_type": "code",
   "execution_count": 5,
   "metadata": {},
   "outputs": [],
   "source": [
    "#STEP 4B: Model definition with lower capacity and without regularization\n",
    "#Can be either reduction in layers or in # of units or both\n",
    "#In this case reducting # of units per layer (16 --> 4)\n",
    "\n",
    "def build_model_low_capacity():\n",
    "    model = models.Sequential()\n",
    "    model.add(layers.Dense(4, activation = 'relu', input_shape = (10000,)))\n",
    "    model.add(layers.Dense(4, activation = 'relu'))\n",
    "    model.add(layers.Dense(1, activation = 'sigmoid'))\n",
    "    model.compile(optimizer = optimizers.RMSprop(lr = 0.001),\n",
    "                 loss = losses.binary_crossentropy,\n",
    "                 metrics = [metrics.binary_crossentropy])\n",
    "    return model"
   ]
  },
  {
   "cell_type": "code",
   "execution_count": 6,
   "metadata": {},
   "outputs": [],
   "source": [
    "#STEP 4C: Model definition with higher capacity and without regularization\n",
    "#Can be either increase in layers or in # of units or both\n",
    "#In this case increasing # of units per layer (16 --> 512)\n",
    "\n",
    "def build_model_high_capacity():\n",
    "    model = models.Sequential()\n",
    "    model.add(layers.Dense(512, activation = 'relu', input_shape = (10000,)))\n",
    "    model.add(layers.Dense(512, activation = 'relu'))\n",
    "    model.add(layers.Dense(1, activation = 'sigmoid'))\n",
    "    model.compile(optimizer = optimizers.RMSprop(lr = 0.001),\n",
    "                 loss = losses.binary_crossentropy,\n",
    "                 metrics = [metrics.binary_crossentropy])\n",
    "    return model"
   ]
  },
  {
   "cell_type": "code",
   "execution_count": 7,
   "metadata": {},
   "outputs": [],
   "source": [
    "#STEP 4D: Model definition with L2 Weight regularization\n",
    "\n",
    "from keras import regularizers\n",
    "def build_model_L2_regularization():\n",
    "    model = models.Sequential()\n",
    "    model.add(layers.Dense(16, kernel_regularizer = regularizers.l2(0.001), activation = 'relu', input_shape = (10000,)))\n",
    "    model.add(layers.Dense(16, kernel_regularizer = regularizers.l2(0.001), activation = 'relu'))\n",
    "    model.add(layers.Dense(1, activation = 'sigmoid'))\n",
    "    model.compile(optimizer = optimizers.RMSprop(lr = 0.001),\n",
    "                 loss = losses.binary_crossentropy,\n",
    "                 metrics = [metrics.binary_crossentropy])\n",
    "    return model"
   ]
  },
  {
   "cell_type": "code",
   "execution_count": 8,
   "metadata": {},
   "outputs": [],
   "source": [
    "#STEP 4E: Model definition with simultaneous L1 and L2 Weight regularization\n",
    "\n",
    "def build_model_L1L2_regularization():\n",
    "    model = models.Sequential()\n",
    "    model.add(layers.Dense(16, kernel_regularizer = regularizers.l1_l2(l1 = 0.001, l2 = 0.001),\n",
    "                          activation = 'relu', input_shape = (10000,)))\n",
    "    model.add(layers.Dense(16, kernel_regularizer = regularizers.l1_l2(l1 = 0.001, l2 = 0.001),\n",
    "                          activation = 'relu'))\n",
    "    model.add(layers.Dense(1, activation = 'sigmoid'))\n",
    "    model.compile(optimizer = optimizers.RMSprop(lr = 0.001),\n",
    "                 loss = losses.binary_crossentropy,\n",
    "                 metrics = [metrics.binary_crossentropy])\n",
    "    return model"
   ]
  },
  {
   "cell_type": "code",
   "execution_count": 9,
   "metadata": {},
   "outputs": [],
   "source": [
    "#STEP 5: Setting aside Validation set\n",
    "#set apart 10,000 samples in the training data to use as a validation set\n",
    "x_val = x_train[: 10000] #first 10000 samples from x_train\n",
    "partial_x_train = x_train[10000 :] #remaining for training (10000 onwards)\n",
    "y_val = y_train[: 10000]\n",
    "partial_y_train = y_train[10000 :]"
   ]
  },
  {
   "cell_type": "code",
   "execution_count": 10,
   "metadata": {},
   "outputs": [
    {
     "name": "stdout",
     "output_type": "stream",
     "text": [
      "dict_keys(['val_loss', 'val_binary_crossentropy', 'loss', 'binary_crossentropy'])\n",
      "dict_keys(['val_loss', 'val_binary_crossentropy', 'loss', 'binary_crossentropy'])\n",
      "dict_keys(['val_loss', 'val_binary_crossentropy', 'loss', 'binary_crossentropy'])\n",
      "dict_keys(['val_loss', 'val_binary_crossentropy', 'loss', 'binary_crossentropy'])\n",
      "dict_keys(['val_loss', 'val_binary_crossentropy', 'loss', 'binary_crossentropy'])\n"
     ]
    }
   ],
   "source": [
    "#STEP 6: Training models\n",
    "\n",
    "no_regularization_model = build_model_no_regularization()\n",
    "low_capacity_model = build_model_low_capacity()\n",
    "high_capacity_model = build_model_high_capacity()\n",
    "L2_regularization_model = build_model_L2_regularization()\n",
    "L1L2_regularization_model = build_model_L1L2_regularization()\n",
    "\n",
    "history_nr = no_regularization_model.fit(partial_x_train,\n",
    "                                        partial_y_train,\n",
    "                                        epochs = 40,\n",
    "                                        batch_size = 512,\n",
    "                                        validation_data = (x_val, y_val),\n",
    "                                        verbose = 0)\n",
    "dict_history_nr = history_nr.history\n",
    "print(dict_history_nr.keys())\n",
    "\n",
    "history_lc = low_capacity_model.fit(partial_x_train,\n",
    "                                   partial_y_train,\n",
    "                                   epochs = 40,\n",
    "                                   batch_size = 512,\n",
    "                                   validation_data = (x_val, y_val),\n",
    "                                   verbose = 0)\n",
    "dict_history_lc = history_lc.history\n",
    "print(dict_history_lc.keys())\n",
    "\n",
    "history_hc = high_capacity_model.fit(partial_x_train,\n",
    "                                    partial_y_train,\n",
    "                                    epochs = 40,\n",
    "                                    batch_size = 512,\n",
    "                                    validation_data = (x_val, y_val),\n",
    "                                    verbose = 0)\n",
    "dict_history_hc = history_hc.history\n",
    "print(dict_history_hc.keys())\n",
    "\n",
    "history_l2 = L2_regularization_model.fit(partial_x_train,\n",
    "                                        partial_y_train,\n",
    "                                        epochs = 40,\n",
    "                                        batch_size = 512,\n",
    "                                        validation_data = (x_val, y_val),\n",
    "                                        verbose = 0)\n",
    "dict_history_l2 = history_l2.history\n",
    "print(dict_history_l2.keys())\n",
    "\n",
    "history_l1l2 = L1L2_regularization_model.fit(partial_x_train,\n",
    "                                            partial_y_train,\n",
    "                                            epochs = 40,\n",
    "                                            batch_size = 512,\n",
    "                                            validation_data = (x_val, y_val),\n",
    "                                            verbose = 0)\n",
    "dict_history_l1l2 = history_l1l2.history\n",
    "print(dict_history_l1l2.keys())"
   ]
  },
  {
   "cell_type": "code",
   "execution_count": 12,
   "metadata": {},
   "outputs": [
    {
     "data": {
      "image/png": "[encoded data removed]",
      "text/plain": [
       "<matplotlib.figure.Figure at 0x22514177828>"
      ]
     },
     "metadata": {},
     "output_type": "display_data"
    }
   ],
   "source": [
    "#STEP 7: For all models plot the validation losses\n",
    "import matplotlib.pyplot as plt\n",
    "\n",
    "val_loss_nr = history_nr.history['val_loss']\n",
    "\n",
    "val_loss_lc = history_lc.history['val_loss']\n",
    "\n",
    "val_loss_hc = history_hc.history['val_loss']\n",
    "\n",
    "val_loss_l2 = history_l2.history['val_loss']\n",
    "\n",
    "val_loss_l1l2 = history_l1l2.history['val_loss']\n",
    "\n",
    "epochs = range(1, len(val_loss_nr) + 1)\n",
    "\n",
    "plt.plot(epochs, val_loss_nr, 'bo', label = 'No regularization')\n",
    "plt.plot(epochs, val_loss_lc, 'gs', label = 'Low capacity')\n",
    "plt.plot(epochs, val_loss_hc, 'c^', label = 'High capacity')\n",
    "plt.plot(epochs, val_loss_l2, 'r+', label = 'L2 regularization')\n",
    "plt.plot(epochs, val_loss_l1l2, 'yd', label = 'L1L2 regularization')\n",
    "plt.title('Validation Loss across models')\n",
    "plt.xlabel('Epochs')\n",
    "plt.ylabel('Validation Loss')\n",
    "plt.legend()\n",
    "plt.show()"
   ]
  },
  {
   "cell_type": "code",
   "execution_count": null,
   "metadata": {},
   "outputs": [],
   "source": []
  }
 ],
 "metadata": {
  "kernelspec": {
   "display_name": "Python 3",
   "language": "python",
   "name": "python3"
  },
  "language_info": {
   "codemirror_mode": {
    "name": "ipython",
    "version": 3
   },
   "file_extension": ".py",
   "mimetype": "text/x-python",
   "name": "python",
   "nbconvert_exporter": "python",
   "pygments_lexer": "ipython3",
   "version": "3.6.4"
  }
 },
 "nbformat": 4,
 "nbformat_minor": 2
}
