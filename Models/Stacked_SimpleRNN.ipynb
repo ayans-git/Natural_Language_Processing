{
 "cells": [
  {
   "cell_type": "markdown",
   "metadata": {},
   "source": [
    "# Sometimes stacking multiple recurrent layers improve the representational power of a network. In such architecture, the intermediate layers need to return full sequence of outputs."
   ]
  },
  {
   "cell_type": "code",
   "execution_count": null,
   "metadata": {},
   "outputs": [],
   "source": [
    "from keras.models import Sequential\n",
    "from keras.layers import Emdedding, SimpleRNN\n",
    "\n",
    "def build_stacked_simple_rnn(input_dim, embedding_dim, num_layers):\n",
    "    output_dim = embedding_dim #for clarity; not required\n",
    "    model = Sequential()\n",
    "    model.add(Embedding(input_dim, embedding_dim))\n",
    "    for iCount in range(num_layers):\n",
    "        model.add(SimpleRNN(output_dim, return_sequences = True))\n",
    "    model.add(SimpleRNN(output_dim))\n",
    "    return model\n",
    "\n",
    "stacked_simple_rnn_model = build_stacked_simple_rnn(10000, 32, 3)\n"
   ]
  }
 ],
 "metadata": {
  "kernelspec": {
   "display_name": "Python 3",
   "language": "python",
   "name": "python3"
  },
  "language_info": {
   "codemirror_mode": {
    "name": "ipython",
    "version": 3
   },
   "file_extension": ".py",
   "mimetype": "text/x-python",
   "name": "python",
   "nbconvert_exporter": "python",
   "pygments_lexer": "ipython3",
   "version": "3.6.4"
  }
 },
 "nbformat": 4,
 "nbformat_minor": 2
}
