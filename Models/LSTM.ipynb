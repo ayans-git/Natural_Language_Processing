{
 "cells": [
  {
   "cell_type": "code",
   "execution_count": null,
   "metadata": {},
   "outputs": [],
   "source": [
    "from keras.models import Sequential\n",
    "from keras.layers import Embedding, LSTM, Bidirectional, Dense\n",
    "\n",
    "def build_LSTM_model(input_dim, output_dim, bidirectional = False):\n",
    "    model = Sequential()\n",
    "    model.add(Embedding(input_dim, output_dim))\n",
    "    if bidirectional:\n",
    "        model.add(Bidirectional(LSTM(output_dim)))\n",
    "    else:\n",
    "        model.add(LSTM(output_dim))\n",
    "    model.add(Dense(1, activation = 'sigmoid'))\n",
    "    return model"
   ]
  },
  {
   "cell_type": "code",
   "execution_count": null,
   "metadata": {},
   "outputs": [],
   "source": [
    "LSTM_model = build_LSTM_model(10000, 32)\n",
    "LSTM_model.summary()\n",
    "\n",
    "BiLSTM_model = build_LSTM_model(10000, 32, True)\n",
    "BiLSTM_model.summary()"
   ]
  }
 ],
 "metadata": {
  "kernelspec": {
   "display_name": "Python 3",
   "language": "python",
   "name": "python3"
  },
  "language_info": {
   "codemirror_mode": {
    "name": "ipython",
    "version": 3
   },
   "file_extension": ".py",
   "mimetype": "text/x-python",
   "name": "python",
   "nbconvert_exporter": "python",
   "pygments_lexer": "ipython3",
   "version": "3.6.4"
  }
 },
 "nbformat": 4,
 "nbformat_minor": 2
}
