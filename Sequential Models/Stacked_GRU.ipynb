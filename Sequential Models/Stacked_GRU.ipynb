{
 "cells": [
  {
   "cell_type": "code",
   "execution_count": 2,
   "metadata": {},
   "outputs": [
    {
     "name": "stdout",
     "output_type": "stream",
     "text": [
      "_________________________________________________________________\n",
      "Layer (type)                 Output Shape              Param #   \n",
      "=================================================================\n",
      "gru_2 (GRU)                  (None, None, 32)          963168    \n",
      "_________________________________________________________________\n",
      "gru_3 (GRU)                  (None, 64)                18624     \n",
      "_________________________________________________________________\n",
      "dense_1 (Dense)              (None, 32)                2080      \n",
      "_________________________________________________________________\n",
      "dense_2 (Dense)              (None, 1)                 33        \n",
      "=================================================================\n",
      "Total params: 983,905\n",
      "Trainable params: 983,905\n",
      "Non-trainable params: 0\n",
      "_________________________________________________________________\n"
     ]
    }
   ],
   "source": [
    "from keras.models import Sequential\n",
    "from keras.layers import GRU, Dense\n",
    "\n",
    "def build_stacked_gru(input_dim, dropout, rec_dropout):\n",
    "    model = Sequential()\n",
    "    model.add(GRU(32, \n",
    "                  dropout = dropout,\n",
    "                  recurrent_dropout = rec_dropout,\n",
    "                  return_sequences = True,\n",
    "                  input_shape = input_dim))\n",
    "    model.add(GRU(64,\n",
    "                 activation = 'relu',\n",
    "                 dropout = dropout,\n",
    "                 recurrent_dropout = rec_dropout))\n",
    "    return model\n",
    "\n",
    "input_data = [None, 10000]\n",
    "stacked_gru_model = build_stacked_gru(input_data, 0.1, 0.5)\n",
    "stacked_gru_model.add(Dense(32, activation = 'relu'))\n",
    "stacked_gru_model.add(Dense(1))\n",
    "stacked_gru_model.summary()"
   ]
  },
  {
   "cell_type": "code",
   "execution_count": null,
   "metadata": {},
   "outputs": [],
   "source": []
  }
 ],
 "metadata": {
  "kernelspec": {
   "display_name": "Python 3",
   "language": "python",
   "name": "python3"
  },
  "language_info": {
   "codemirror_mode": {
    "name": "ipython",
    "version": 3
   },
   "file_extension": ".py",
   "mimetype": "text/x-python",
   "name": "python",
   "nbconvert_exporter": "python",
   "pygments_lexer": "ipython3",
   "version": "3.6.4"
  }
 },
 "nbformat": 4,
 "nbformat_minor": 2
}
