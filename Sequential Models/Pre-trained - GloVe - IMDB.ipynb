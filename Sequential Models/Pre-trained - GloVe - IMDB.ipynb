{
 "cells": [
  {
   "cell_type": "code",
   "execution_count": 1,
   "metadata": {},
   "outputs": [],
   "source": [
    "#STEP: Processing the labels of the raw IMDB data\n",
    "\n",
    "import os\n",
    "\n",
    "imdb_dir = 'C:/Users/write/OneDrive/Deep Learning Data/aclImdb_project'\n",
    "train_dir = os.path.join(imdb_dir, 'train')\n",
    "\n",
    "labels = []\n",
    "reviews = []\n",
    "\n",
    "#Note that 'reviews' will have neg reviews first so a random mixing would be required\n",
    "for label_type in ['neg', 'pos']:\n",
    "    dir_name = os.path.join(train_dir, label_type)  #In either '../train/neg' or in '../train/pos'\n",
    "    for fname in os.listdir(dir_name):   #iterating on the files in 'neg' or 'pos' directory\n",
    "        if fname[-4:] == '.txt':\n",
    "            f = open(os.path.join(dir_name, fname), encoding=\"utf8\")  #opening .txt file in 'neg' or 'pos' directory\n",
    "            reviews.append(f.read())\n",
    "            f.close()\n",
    "            if label_type == 'neg':\n",
    "                labels.append(0)\n",
    "            else:\n",
    "                labels.append(1)\n",
    "\n",
    "#print('Review texts:\\n', texts)\n",
    "#print('Labels:\\n', labels)"
   ]
  },
  {
   "cell_type": "code",
   "execution_count": 2,
   "metadata": {},
   "outputs": [
    {
     "name": "stderr",
     "output_type": "stream",
     "text": [
      "D:\\InstalledSoftware\\Anaconda\\lib\\site-packages\\h5py\\__init__.py:36: FutureWarning: Conversion of the second argument of issubdtype from `float` to `np.floating` is deprecated. In future, it will be treated as `np.float64 == np.dtype(float).type`.\n",
      "  from ._conv import register_converters as _register_converters\n",
      "Using TensorFlow backend.\n"
     ]
    },
    {
     "name": "stdout",
     "output_type": "stream",
     "text": [
      "Found 72633 unique tokens.\n"
     ]
    }
   ],
   "source": [
    "#STEP: Tokenizing text of the IMDB data\n",
    "\n",
    "from keras.preprocessing.text import Tokenizer\n",
    "from keras.preprocessing.sequence import pad_sequences\n",
    "import numpy as np\n",
    "\n",
    "max_len = 100    #Truncates reviews after 100 words\n",
    "training_samples = 200   #Trains on 200 samples\n",
    "validation_samples = 10000   #Validates on 10,000 samples\n",
    "max_words = 10000   #Considers the top 10,000 words in the dataset\n",
    "\n",
    "#*****************************************************************************************#\n",
    "#This class allows to vectorize a text corpus by turning each text into either a sequence\n",
    "#of integers (each integer being the index of a token in a dictionary) or into a vector where\n",
    "#the coefficient for each token could be binary, based on word count, based on TF-IDF...\n",
    "tokenizer = Tokenizer(num_words = max_words)\n",
    "#*****************************************************************************************#\n",
    "\n",
    "#*****************************************************************************************#\n",
    "# fit_on_texts(texts) Updates internal vocabulary based on a list of texts.\n",
    "#In the case where texts contain lists, we assume each entry of the lists to be a token.\n",
    "#Required before using texts_to_sequences or texts_to_matrix\n",
    "tokenizer.fit_on_texts(reviews) \n",
    "#*****************************************************************************************#\n",
    "\n",
    "#*****************************************************************************************#\n",
    "#Transforms each text in texts to a sequence of integers.\n",
    "#Returns a list of sequences.\n",
    "#Only top (num_words - 1) most frequent words will be taken into account.\n",
    "#Only words known by the Toeknizer will be considered.\n",
    "sequences = tokenizer.texts_to_sequences(reviews)\n",
    "#*****************************************************************************************#\n",
    "\n",
    "#*****************************************************************************************#\n",
    "#word_index is a dictionary of words and their uniquely assigned integers\n",
    "word_index = tokenizer.word_index\n",
    "#*****************************************************************************************#\n",
    "print('Found %s unique tokens.' % len(word_index))"
   ]
  },
  {
   "cell_type": "code",
   "execution_count": 3,
   "metadata": {},
   "outputs": [
    {
     "name": "stdout",
     "output_type": "stream",
     "text": [
      "Shape of data tensor:  (17243, 100)\n",
      "17243\n"
     ]
    }
   ],
   "source": [
    "#*****************************************************************************************#\n",
    "#Pads sequences to the same length.\n",
    "#This function transforms a list of num_samples sequences (lists of integers) \n",
    "#into a 2D Numpy array of shape  (num_samples, num_timesteps). \n",
    "#num_timesteps is either the maxlen argument if provided, \n",
    "#or the length of the longest sequence otherwise.\n",
    "#Sequences that are shorter than num_timesteps are padded with value at the end.\n",
    "#Sequences longer than num_timesteps are truncated so that they fit the desired length.\n",
    "data = pad_sequences(sequences, maxlen = max_len)\n",
    "#*****************************************************************************************#\n",
    "\n",
    "print('Shape of data tensor: ', data.shape)   #(samples, size of each sample)\n",
    "print(data.shape[0])  #number of samples"
   ]
  },
  {
   "cell_type": "code",
   "execution_count": 4,
   "metadata": {},
   "outputs": [
    {
     "name": "stdout",
     "output_type": "stream",
     "text": [
      "Shape of label tensor:  (17243,)\n"
     ]
    }
   ],
   "source": [
    "labels = np.asarray(labels)\n",
    "print('Shape of label tensor: ', labels.shape)  #(samples,)"
   ]
  },
  {
   "cell_type": "code",
   "execution_count": 5,
   "metadata": {},
   "outputs": [],
   "source": [
    "#Splits the data into a training set and a validation set\n",
    "#but first shuffles the data because we are starting with\n",
    "#data in which samples are ordered (all negative first then all positives)\n",
    "indices = np.arange(data.shape[0])\n",
    "#print(indices)\n",
    "np.random.shuffle(indices)\n",
    "data = data[indices]\n",
    "#print('\\nShuffled data:\\n', data)\n",
    "labels = labels[indices]\n",
    "#print('\\nShuffled labels:\\n', labels)"
   ]
  },
  {
   "cell_type": "code",
   "execution_count": 6,
   "metadata": {},
   "outputs": [],
   "source": [
    "x_train = data[: training_samples]\n",
    "y_train = labels[: training_samples]\n",
    "x_val = data[training_samples : training_samples + validation_samples]\n",
    "y_val = labels[training_samples : training_samples + validation_samples]"
   ]
  },
  {
   "cell_type": "code",
   "execution_count": 7,
   "metadata": {},
   "outputs": [
    {
     "name": "stdout",
     "output_type": "stream",
     "text": [
      "Found 400000 word vectors.\n"
     ]
    }
   ],
   "source": [
    "#STEP: Parsing the GloVe word-embedding file\n",
    "\n",
    "glove_dir = 'C:/Users/write/OneDrive/DeepLearning Code/Natural Language Processing/glove.6B/'\n",
    "\n",
    "embeddings_index = {}\n",
    "f = open(os.path.join(glove_dir, 'glove.6B.100d.txt'), encoding = \"utf8\")\n",
    "\n",
    "for line in f:\n",
    "    values = line.split()\n",
    "    word = values[0]\n",
    "    coefs = np.asarray(values[1:], dtype = 'float32')\n",
    "    embeddings_index[word] = coefs\n",
    "f.close()\n",
    "\n",
    "print('Found %s word vectors.' % len(embeddings_index))"
   ]
  },
  {
   "cell_type": "code",
   "execution_count": 8,
   "metadata": {},
   "outputs": [],
   "source": [
    "#STEP: Preparing the GloVe word-embeddings matrix\n",
    "\n",
    "#*****************************************************************************************#\n",
    "#The network will learn 100 dimensional embeddings for each of the max_words (10000 in this case)\n",
    "embedding_dim = 100\n",
    "#*****************************************************************************************#\n",
    "embedding_matrix = np.zeros((max_words, embedding_dim))\n",
    "\n",
    "for word, i in word_index.items():\n",
    "    if i < max_words:\n",
    "        embedding_vector = embeddings_index.get(word)\n",
    "        if embedding_vector is not None:\n",
    "            embedding_matrix[i] = embedding_vector  #Words not found in the embedding index will be all zeros"
   ]
  },
  {
   "cell_type": "code",
   "execution_count": 9,
   "metadata": {},
   "outputs": [
    {
     "name": "stdout",
     "output_type": "stream",
     "text": [
      "_________________________________________________________________\n",
      "Layer (type)                 Output Shape              Param #   \n",
      "=================================================================\n",
      "embedding_1 (Embedding)      (None, 100, 100)          1000000   \n",
      "_________________________________________________________________\n",
      "flatten_1 (Flatten)          (None, 10000)             0         \n",
      "_________________________________________________________________\n",
      "dense_1 (Dense)              (None, 32)                320032    \n",
      "_________________________________________________________________\n",
      "dense_2 (Dense)              (None, 1)                 33        \n",
      "=================================================================\n",
      "Total params: 1,320,065\n",
      "Trainable params: 1,320,065\n",
      "Non-trainable params: 0\n",
      "_________________________________________________________________\n"
     ]
    }
   ],
   "source": [
    "#STEP: Model definition\n",
    "\n",
    "from keras.models import Sequential\n",
    "from keras.layers import Embedding, Flatten, Dense\n",
    "\n",
    "model = Sequential()\n",
    "model.add(Embedding(max_words, embedding_dim, input_length = max_len))\n",
    "model.add(Flatten())\n",
    "model.add(Dense(32, activation = 'relu'))\n",
    "model.add(Dense(1, activation = 'sigmoid'))\n",
    "model.summary()"
   ]
  },
  {
   "cell_type": "code",
   "execution_count": 10,
   "metadata": {},
   "outputs": [],
   "source": [
    "#STEP: Loading pretrained word embeddings into the Embedding layer\n",
    "model.layers[0].set_weights([embedding_matrix])\n",
    "model.layers[0].trainable = False"
   ]
  },
  {
   "cell_type": "code",
   "execution_count": 11,
   "metadata": {},
   "outputs": [
    {
     "name": "stdout",
     "output_type": "stream",
     "text": [
      "Train on 200 samples, validate on 10000 samples\n",
      "Epoch 1/10\n",
      "200/200 [==============================] - 2s 8ms/step - loss: 1.1194 - binary_accuracy: 0.6700 - val_loss: 0.7942 - val_binary_accuracy: 0.7184\n",
      "Epoch 2/10\n",
      "200/200 [==============================] - 1s 5ms/step - loss: 0.3589 - binary_accuracy: 0.8400 - val_loss: 1.0311 - val_binary_accuracy: 0.2832\n",
      "Epoch 3/10\n",
      "200/200 [==============================] - 1s 5ms/step - loss: 0.3467 - binary_accuracy: 0.8100 - val_loss: 0.5993 - val_binary_accuracy: 0.7176\n",
      "Epoch 4/10\n",
      "200/200 [==============================] - 1s 5ms/step - loss: 0.1938 - binary_accuracy: 0.9300 - val_loss: 1.0447 - val_binary_accuracy: 0.7184\n",
      "Epoch 5/10\n",
      "200/200 [==============================] - 1s 5ms/step - loss: 0.1192 - binary_accuracy: 0.9750 - val_loss: 0.6915 - val_binary_accuracy: 0.5662\n",
      "Epoch 6/10\n",
      "200/200 [==============================] - 1s 5ms/step - loss: 0.0904 - binary_accuracy: 0.9850 - val_loss: 0.9017 - val_binary_accuracy: 0.7186\n",
      "Epoch 7/10\n",
      "200/200 [==============================] - 1s 5ms/step - loss: 0.0359 - binary_accuracy: 1.0000 - val_loss: 0.7402 - val_binary_accuracy: 0.7178\n",
      "Epoch 8/10\n",
      "200/200 [==============================] - 1s 5ms/step - loss: 0.0252 - binary_accuracy: 1.0000 - val_loss: 0.8838 - val_binary_accuracy: 0.7173\n",
      "Epoch 9/10\n",
      "200/200 [==============================] - 1s 5ms/step - loss: 0.0176 - binary_accuracy: 1.0000 - val_loss: 0.8314 - val_binary_accuracy: 0.7176\n",
      "Epoch 10/10\n",
      "200/200 [==============================] - 1s 5ms/step - loss: 0.0092 - binary_accuracy: 1.0000 - val_loss: 0.6937 - val_binary_accuracy: 0.6819\n"
     ]
    }
   ],
   "source": [
    "#STEP: Training and Evaluation\n",
    "\n",
    "from keras import optimizers\n",
    "from keras import losses\n",
    "from keras import metrics\n",
    "\n",
    "model.compile(optimizer = optimizers.RMSprop(),\n",
    "             loss = losses.binary_crossentropy,\n",
    "             metrics = [metrics.binary_accuracy])\n",
    "\n",
    "history_glv = model.fit(x_train, y_train,\n",
    "                       epochs = 10,\n",
    "                       batch_size = 32,\n",
    "                       validation_data = (x_val, y_val))\n",
    "\n",
    "model.save_weights('pre_trained_glove_model.h5')"
   ]
  },
  {
   "cell_type": "code",
   "execution_count": 13,
   "metadata": {},
   "outputs": [
    {
     "data": {
      "image/png": "[encoded data removed]",
      "text/plain": [
       "<matplotlib.figure.Figure at 0x23076044c50>"
      ]
     },
     "metadata": {},
     "output_type": "display_data"
    },
    {
     "data": {
      "image/png": "[encoded data removed]",
      "text/plain": [
       "<matplotlib.figure.Figure at 0x23076109358>"
      ]
     },
     "metadata": {},
     "output_type": "display_data"
    }
   ],
   "source": [
    "#STEP: Plotting pretrained model results\n",
    "\n",
    "import matplotlib.pyplot as plt\n",
    "\n",
    "acc = history_glv.history['binary_accuracy']\n",
    "val_acc = history_glv.history['val_binary_accuracy']\n",
    "loss = history_glv.history['loss']\n",
    "val_loss = history_glv.history['val_loss']\n",
    "\n",
    "epochs = range(1, len(acc) + 1)\n",
    "\n",
    "plt.plot(epochs, acc, 'bo', label = 'Training Accuracy')\n",
    "plt.plot(epochs, val_acc, 'b', label = 'Validation Accuracy')\n",
    "plt.title('Training and Validation Accuracy')\n",
    "plt.legend()\n",
    "\n",
    "plt.figure()\n",
    "\n",
    "plt.plot(epochs, loss, 'g^', label = 'Training Loss')\n",
    "plt.plot(epochs, val_loss, 'g', label = 'Validation Loss')\n",
    "plt.title('Training and Validation Loss')\n",
    "plt.legend()\n",
    "\n",
    "plt.show()"
   ]
  },
  {
   "cell_type": "code",
   "execution_count": null,
   "metadata": {},
   "outputs": [],
   "source": []
  }
 ],
 "metadata": {
  "kernelspec": {
   "display_name": "Python 3",
   "language": "python",
   "name": "python3"
  },
  "language_info": {
   "codemirror_mode": {
    "name": "ipython",
    "version": 3
   },
   "file_extension": ".py",
   "mimetype": "text/x-python",
   "name": "python",
   "nbconvert_exporter": "python",
   "pygments_lexer": "ipython3",
   "version": "3.6.4"
  }
 },
 "nbformat": 4,
 "nbformat_minor": 2
}
