{
 "cells": [
  {
   "cell_type": "code",
   "execution_count": 1,
   "metadata": {},
   "outputs": [
    {
     "name": "stdout",
     "output_type": "stream",
     "text": [
      "['\"Date Time\"', '\"p (mbar)\"', '\"T (degC)\"', '\"Tpot (K)\"', '\"Tdew (degC)\"', '\"rh (%)\"', '\"VPmax (mbar)\"', '\"VPact (mbar)\"', '\"VPdef (mbar)\"', '\"sh (g/kg)\"', '\"H2OC (mmol/mol)\"', '\"rho (g/m**3)\"', '\"wv (m/s)\"', '\"max. wv (m/s)\"', '\"wd (deg)\"']\n",
      "Total records:  420551\n"
     ]
    }
   ],
   "source": [
    "import os\n",
    "\n",
    "data_dir = 'C:/Users/write/OneDrive/Deep Learning Data/jena_climate_2009_2016'\n",
    "fname = os.path.join(data_dir, 'jena_climate_2009_2016.csv')\n",
    "\n",
    "f = open(fname)\n",
    "data = f.read()\n",
    "f.close()\n",
    "\n",
    "lines = data.split('\\n')\n",
    "header = lines[0].split(',')\n",
    "lines = lines[1:]  #0th position is header; 1 onwards is data\n",
    "\n",
    "print(header)\n",
    "print('Total records: ', len(lines))"
   ]
  },
  {
   "cell_type": "markdown",
   "metadata": {},
   "source": [
    "# Will execute this on CPU"
   ]
  },
  {
   "cell_type": "markdown",
   "metadata": {},
   "source": [
    "#Note that except \"Date Time\" rest of columns hold float data.\n",
    "#While parsing the values we need to exclude \"Date Time\" values"
   ]
  },
  {
   "cell_type": "code",
   "execution_count": 2,
   "metadata": {},
   "outputs": [],
   "source": [
    "import numpy as np\n",
    "\n",
    "float_data = np.zeros((len(lines), len(header) - 1))\n",
    "for i, line in enumerate(lines):\n",
    "    float_data[i, :] = [float(x) for x in line.split(',')[1 :]]    #[1: ] => excluding Date Time values on 0th column"
   ]
  },
  {
   "cell_type": "markdown",
   "metadata": {},
   "source": [
    "#Within the float_data collection \"p (mbar)\" is the 0th column, \"T (degC)\" is the 1st column, and so on"
   ]
  },
  {
   "cell_type": "code",
   "execution_count": 3,
   "metadata": {},
   "outputs": [
    {
     "data": {
      "text/plain": [
       "[<matplotlib.lines.Line2D at 0x2c260fa2518>]"
      ]
     },
     "execution_count": 3,
     "metadata": {},
     "output_type": "execute_result"
    }
   ],
   "source": [
    "import matplotlib.pyplot as plt\n",
    "\n",
    "deg_temp = float_data[:, 1]  #all values of \"T (degC)\" column\n",
    "plt.plot(range(len(deg_temp)), deg_temp)"
   ]
  },
  {
   "cell_type": "markdown",
   "metadata": {},
   "source": [
    "#Plot first 10 days\n",
    "#Temperatures are recorded every 10 mins i.e. 6 records/hr and 6*24 = 144/day"
   ]
  },
  {
   "cell_type": "code",
   "execution_count": 4,
   "metadata": {},
   "outputs": [
    {
     "data": {
      "text/plain": [
       "[<matplotlib.lines.Line2D at 0x2c261a45e10>]"
      ]
     },
     "execution_count": 4,
     "metadata": {},
     "output_type": "execute_result"
    },
    {
     "data": {
      "image/png": "[encoded data removed]",
      "text/plain": [
       "<matplotlib.figure.Figure at 0x2c256602dd8>"
      ]
     },
     "metadata": {},
     "output_type": "display_data"
    }
   ],
   "source": [
    "plt.plot(range(1440), deg_temp[: 1440]) #first 10 days records"
   ]
  },
  {
   "cell_type": "markdown",
   "metadata": {},
   "source": [
    "# Based on 10 days data can we predict next 24 hrs temperatures?\n",
    "#lookback = 1440 observations (6 * 24 * 10) \n",
    "#steps = 6 observations will be sampled at one data point every hr\n",
    "#delay = 144 Targets will be 24 hrs in the future\n",
    "#We will use first 200,000 as training data"
   ]
  },
  {
   "cell_type": "code",
   "execution_count": 5,
   "metadata": {},
   "outputs": [],
   "source": [
    "mean = float_data[:200000].mean(axis = 0)\n",
    "float_data -= mean\n",
    "std = float_data[:200000].std(axis = 0)\n",
    "float_data /= std"
   ]
  },
  {
   "cell_type": "markdown",
   "metadata": {},
   "source": [
    "#At this point first 200,000 records in float_data collection are normalized and can be used for training"
   ]
  },
  {
   "cell_type": "markdown",
   "metadata": {},
   "source": [
    "# Create Data Generator\n",
    ">It yields a tuple (samples, targets) where samples is one batch of input data\n",
    ">and targets us the corresponding array of target temperatures\n",
    "\n",
    "> data - The original array of floating-point data (float_data)\n",
    "> lookback - Defines how many timesteps back the input data should go (720 means 5 days, 1440 means 10 days, etc.)\n",
    "> delay - Defines how many timesteps in the future target should be (144 means 24 hrs given 1 record / 10 mins)\n",
    "> min_index and max_index - Indices in the data array [float_data] that delimit which timesteps to draw from. \n",
    "Helps in data segmentation for training, validation and text.\n",
    "Note, we normalized first 200,000 records for training\n",
    "> shuffle - Whether to shuffle the samples or draw them in chronological order. Usually validation and test data are not shuffled in Timeseries problem\n",
    "> batch_size - The number of samples per batch\n",
    "> step - The period, in timesteps, at which data is sampled. Here the data is sampled every 10 mins i.e. 6/hr"
   ]
  },
  {
   "cell_type": "code",
   "execution_count": 6,
   "metadata": {},
   "outputs": [],
   "source": [
    "def generator(data, lookback, delay, min_index, max_index, shuffle = False, batch_size = 128, step = 6):\n",
    "    if max_index is None:\n",
    "        max_index = (len(data) - 1) - delay   #index value starts from [len(data) - 1] because index starts from 0\n",
    "    \n",
    "    lower_index = min_index + lookback\n",
    "    while 1:\n",
    "        if shuffle:\n",
    "            rows = np.random.randint(min_index + lookback, max_index, size = batch_size) \n",
    "            #Return a random integer N such that (min_index + lookback) <= N <= max_index\n",
    "            #Basically shuffling rows within the min and max index values\n",
    "        else:\n",
    "            if lower_index + batch_size >= max_index:\n",
    "                lower_index = min_index + lookback\n",
    "            rows = np.arange(lower_index, min(lower_index + batch_size, max_index))\n",
    "            lower_index += len(rows)\n",
    "        \n",
    "        #samples(#totalrecords, #readings/day, #columns)\n",
    "        # '//' is for floor division\n",
    "        samples = np.zeros((len(rows), lookback//step, data.shape[-1]))\n",
    "        \n",
    "        targets = np.zeros((len(rows), ))\n",
    "        \n",
    "        #range(start, stop, step)\n",
    "        #start - Optional. An integer number specifying at which position to start. Default is 0\n",
    "        #stop - Required. An integer number specifying at which position to end.\n",
    "        #step - Optional. An integer number specifying the incrementation. Default is 1\n",
    "        for j, row in enumerate(rows):\n",
    "            indices = range(rows[j] - lookback, rows[j], step)\n",
    "            samples[j] = data[indices]\n",
    "            targets[j] = data[rows[j] + delay][1]\n",
    "        yield samples, targets"
   ]
  },
  {
   "cell_type": "code",
   "execution_count": 7,
   "metadata": {},
   "outputs": [],
   "source": [
    "lookback = 1440 # 6 * 24 * 10 => 10 days\n",
    "step = 6 #number of observations per hour\n",
    "delay = 144 #target => 6 * 24 => predicting 24 hrs in future\n",
    "batch_size = 128\n",
    "\n",
    "train_gen = generator(float_data,\n",
    "                     lookback = lookback,\n",
    "                     delay = delay,\n",
    "                     min_index = 0,\n",
    "                     max_index = 200000, #first 200000 for training (normalized for training)\n",
    "                     shuffle = True, #training data is shuffled\n",
    "                     batch_size = batch_size, \n",
    "                     step = step\n",
    "                     )\n",
    "\n",
    "#Not shuffling validation and test data\n",
    "validation_gen = generator(float_data,\n",
    "                          lookback = lookback,\n",
    "                          delay = delay,\n",
    "                          min_index = 200001,\n",
    "                          max_index = 300000,\n",
    "                          batch_size = batch_size, \n",
    "                          step = step\n",
    "                          )\n",
    "\n",
    "test_gen = generator(float_data,\n",
    "                    lookback = lookback,\n",
    "                    delay = delay,\n",
    "                    min_index = 300001,\n",
    "                    max_index = None,\n",
    "                    batch_size = batch_size,\n",
    "                    step = step)"
   ]
  },
  {
   "cell_type": "code",
   "execution_count": null,
   "metadata": {},
   "outputs": [],
   "source": [
    "#How many steps to draw from validation_gen in order to see the entire validation set\n",
    "validation_steps = 300000 - 200001 - lookback\n",
    "\n",
    "#How many steps to draw from test_gen in order to see the entire test set\n",
    "test_steps = (len(float_data) - 300001 - lookback)\n",
    "\n",
    "\n",
    "def common_sense_method():\n",
    "    batch_maes = []\n",
    "    for step in range(validation_steps):\n",
    "        samples, targets = next(validation_gen)\n",
    "        preds = samples[:, -1, 1]\n",
    "        mae = np.mean(np.abs(preds - targets))\n",
    "        batch_maes.append(mae)\n",
    "    print(np.mean(batch_maes))\n",
    "    return np.mean(batch_maes)\n",
    "\n",
    "avg_mae = common_sense_method()\n",
    "\n",
    "celsius_mae = avg_mae * std[1]\n",
    "print(celsius_mae)"
   ]
  },
  {
   "cell_type": "code",
   "execution_count": 8,
   "metadata": {},
   "outputs": [
    {
     "name": "stderr",
     "output_type": "stream",
     "text": [
      "D:\\InstalledSoftware\\Anaconda\\lib\\site-packages\\h5py\\__init__.py:36: FutureWarning: Conversion of the second argument of issubdtype from `float` to `np.floating` is deprecated. In future, it will be treated as `np.float64 == np.dtype(float).type`.\n",
      "  from ._conv import register_converters as _register_converters\n",
      "Using TensorFlow backend.\n"
     ]
    },
    {
     "name": "stdout",
     "output_type": "stream",
     "text": [
      "Epoch 1/20\n",
      "500/500 [==============================] - 1433s 3s/step - loss: 1.0830 - val_loss: 0.5856\n",
      "Epoch 2/20\n",
      "500/500 [==============================] - 1409s 3s/step - loss: 0.4076 - val_loss: 0.3197\n",
      "Epoch 3/20\n",
      "500/500 [==============================] - 1550s 3s/step - loss: 0.2930 - val_loss: 0.3154\n",
      "Epoch 4/20\n",
      "500/500 [==============================] - 1534s 3s/step - loss: 0.2702 - val_loss: 0.3109\n",
      "Epoch 5/20\n",
      "500/500 [==============================] - 1444s 3s/step - loss: 0.2557 - val_loss: 0.3039\n",
      "Epoch 6/20\n",
      "500/500 [==============================] - 1262s 3s/step - loss: 0.2457 - val_loss: 0.3345\n",
      "Epoch 7/20\n",
      "500/500 [==============================] - 1267s 3s/step - loss: 0.2399 - val_loss: 0.3213\n",
      "Epoch 8/20\n",
      "500/500 [==============================] - 1301s 3s/step - loss: 0.2354 - val_loss: 0.3306\n",
      "Epoch 9/20\n",
      "500/500 [==============================] - 1373s 3s/step - loss: 0.2307 - val_loss: 0.3390\n",
      "Epoch 10/20\n",
      "500/500 [==============================] - 1386s 3s/step - loss: 0.2256 - val_loss: 0.3288\n",
      "Epoch 11/20\n",
      "500/500 [==============================] - 1365s 3s/step - loss: 0.2214 - val_loss: 0.3173\n",
      "Epoch 12/20\n",
      "500/500 [==============================] - 1317s 3s/step - loss: 0.2209 - val_loss: 0.3343\n",
      "Epoch 13/20\n",
      "500/500 [==============================] - 1335s 3s/step - loss: 0.2165 - val_loss: 0.3326\n",
      "Epoch 14/20\n",
      "500/500 [==============================] - 1294s 3s/step - loss: 0.2145 - val_loss: 0.3308\n",
      "Epoch 15/20\n",
      "500/500 [==============================] - 1259s 3s/step - loss: 0.2112 - val_loss: 0.3171\n",
      "Epoch 16/20\n",
      "500/500 [==============================] - 1257s 3s/step - loss: 0.2088 - val_loss: 0.3184\n",
      "Epoch 17/20\n",
      "500/500 [==============================] - 1266s 3s/step - loss: 0.2062 - val_loss: 0.3327\n",
      "Epoch 18/20\n",
      "500/500 [==============================] - 1257s 3s/step - loss: 0.2048 - val_loss: 0.3370\n",
      "Epoch 19/20\n",
      "500/500 [==============================] - 1261s 3s/step - loss: 0.2030 - val_loss: 0.3290\n",
      "Epoch 20/20\n",
      "500/500 [==============================] - 1261s 3s/step - loss: 0.2015 - val_loss: 0.3261\n"
     ]
    }
   ],
   "source": [
    "#np.mean(batch_maes) = 0.28969941979609765\n",
    "#celsius_mae = 2.5645638478601653\n",
    "\n",
    "validation_steps = 300000 - 200001 - lookback\n",
    "\n",
    "from keras.models import Sequential\n",
    "from keras.layers import Flatten, Dense\n",
    "from keras import optimizers\n",
    "from keras import losses\n",
    "from keras import metrics\n",
    "\n",
    "model = Sequential()\n",
    "model.add(Flatten(input_shape = (lookback // step, float_data.shape[-1])))\n",
    "model.add(Dense(32, activation = 'relu'))\n",
    "model.add(Dense(1))\n",
    "\n",
    "model.compile(optimizer = optimizers.RMSprop(),\n",
    "             loss = losses.MAE)\n",
    "\n",
    "history_dense = model.fit_generator(train_gen,\n",
    "                                   steps_per_epoch = 500,\n",
    "                                   epochs = 20,\n",
    "                                   validation_data = validation_gen,\n",
    "                                   validation_steps = validation_steps)"
   ]
  },
  {
   "cell_type": "code",
   "execution_count": 9,
   "metadata": {},
   "outputs": [
    {
     "data": {
      "image/png": "[encoded data removed]",
      "text/plain": [
       "<matplotlib.figure.Figure at 0x2c278c78048>"
      ]
     },
     "metadata": {},
     "output_type": "display_data"
    }
   ],
   "source": [
    "loss = history_dense.history['loss']\n",
    "val_loss = history_dense.history['val_loss']\n",
    "\n",
    "epochs = range(1, len(loss) + 1)\n",
    "\n",
    "plt.figure()\n",
    "\n",
    "plt.plot(epochs, loss, 'bo', label = 'Training Loss')\n",
    "plt.plot(epochs, val_loss, 'b', label = 'Validation Loss')\n",
    "plt.title('Training and Validation Loss')\n",
    "plt.legend()\n",
    "plt.show()"
   ]
  },
  {
   "cell_type": "code",
   "execution_count": null,
   "metadata": {},
   "outputs": [],
   "source": [
    "from "
   ]
  },
  {
   "cell_type": "code",
   "execution_count": null,
   "metadata": {},
   "outputs": [],
   "source": []
  }
 ],
 "metadata": {
  "kernelspec": {
   "display_name": "Python 3",
   "language": "python",
   "name": "python3"
  },
  "language_info": {
   "codemirror_mode": {
    "name": "ipython",
    "version": 3
   },
   "file_extension": ".py",
   "mimetype": "text/x-python",
   "name": "python",
   "nbconvert_exporter": "python",
   "pygments_lexer": "ipython3",
   "version": "3.6.4"
  }
 },
 "nbformat": 4,
 "nbformat_minor": 2
}
