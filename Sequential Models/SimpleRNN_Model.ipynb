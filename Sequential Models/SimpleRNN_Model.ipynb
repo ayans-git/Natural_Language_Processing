{
 "cells": [
  {
   "cell_type": "code",
   "execution_count": 2,
   "metadata": {},
   "outputs": [
    {
     "name": "stdout",
     "output_type": "stream",
     "text": [
      "_________________________________________________________________\n",
      "Layer (type)                 Output Shape              Param #   \n",
      "=================================================================\n",
      "embedding_3 (Embedding)      (None, None, 32)          320000    \n",
      "_________________________________________________________________\n",
      "simple_rnn_3 (SimpleRNN)     (None, 32)                2080      \n",
      "_________________________________________________________________\n",
      "dense_5 (Dense)              (None, 32)                1056      \n",
      "_________________________________________________________________\n",
      "dense_6 (Dense)              (None, 1)                 33        \n",
      "=================================================================\n",
      "Total params: 323,169\n",
      "Trainable params: 323,169\n",
      "Non-trainable params: 0\n",
      "_________________________________________________________________\n",
      "_________________________________________________________________\n",
      "Layer (type)                 Output Shape              Param #   \n",
      "=================================================================\n",
      "embedding_4 (Embedding)      (None, None, 32)          320000    \n",
      "_________________________________________________________________\n",
      "simple_rnn_4 (SimpleRNN)     (None, None, 32)          2080      \n",
      "_________________________________________________________________\n",
      "dense_7 (Dense)              (None, None, 32)          1056      \n",
      "_________________________________________________________________\n",
      "dense_8 (Dense)              (None, None, 1)           33        \n",
      "=================================================================\n",
      "Total params: 323,169\n",
      "Trainable params: 323,169\n",
      "Non-trainable params: 0\n",
      "_________________________________________________________________\n"
     ]
    }
   ],
   "source": [
    "from keras.models import Sequential\n",
    "from keras.layers import Embedding, SimpleRNN, Dense\n",
    "\n",
    "def build_simple_rnn(input_dim, embedding_dim, stacking = False):\n",
    "    output_dim = embedding_dim #just for clarity; not required\n",
    "    model = Sequential()\n",
    "    model.add(Embedding(input_dim, embedding_dim))\n",
    "    model.add(SimpleRNN(output_dim, return_sequences = stacking))\n",
    "    return model\n",
    "\n",
    "simple_rnn_model_2d = build_simple_rnn(10000, 32, False)\n",
    "simple_rnn_model_2d.add(Dense(32, activation = 'relu'))\n",
    "simple_rnn_model_2d.add(Dense(1, activation = 'sigmoid'))\n",
    "simple_rnn_model_2d.summary()\n",
    "\n",
    "simple_rnn_model_3d = build_simple_rnn(10000, 32, True)\n",
    "simple_rnn_model_3d.add(Dense(32, activation = 'relu'))\n",
    "simple_rnn_model_3d.add(Dense(1, activation = 'sigmoid'))\n",
    "simple_rnn_model_3d.summary()"
   ]
  },
  {
   "cell_type": "code",
   "execution_count": null,
   "metadata": {},
   "outputs": [],
   "source": []
  }
 ],
 "metadata": {
  "kernelspec": {
   "display_name": "Python 3",
   "language": "python",
   "name": "python3"
  },
  "language_info": {
   "codemirror_mode": {
    "name": "ipython",
    "version": 3
   },
   "file_extension": ".py",
   "mimetype": "text/x-python",
   "name": "python",
   "nbconvert_exporter": "python",
   "pygments_lexer": "ipython3",
   "version": "3.6.4"
  }
 },
 "nbformat": 4,
 "nbformat_minor": 2
}
